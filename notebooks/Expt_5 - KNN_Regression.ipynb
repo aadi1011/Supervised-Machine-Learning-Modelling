{
 "cells": [
  {
   "cell_type": "markdown",
   "metadata": {},
   "source": [
    "# Experiment 5 - KNN Regression\n",
    "<b>Aadith Sukumar<br>\n",
    "AIML A1 (2021-25)<br>\n",
    "21070126003</b><br>\n",
    "<br>The age of an abalone can be found by cutting its shell and counting the number of rings on\n",
    "the shell. In the Abalone Dataset, you can find the age measurements of a large number of\n",
    "abalones along with a lot of other physical measurements.\n",
    "The goal of the project is to develop a model that can predict the age of an abalone based\n",
    "purely on the other physical measurements. This would allow researchers to estimate the\n",
    "abalone’s age without having to cut its shell and count the rings.\n",
    "Use K-NN technique for regression to predict the age of an abalone."
   ]
  },
  {
   "cell_type": "markdown",
   "metadata": {},
   "source": [
    "## Importing Libraries"
   ]
  },
  {
   "cell_type": "code",
   "execution_count": 2,
   "metadata": {
    "ExecuteTime": {
     "start_time": "2023-06-02T13:29:25.948095Z",
     "end_time": "2023-06-02T13:29:26.008924Z"
    }
   },
   "outputs": [],
   "source": [
    "import numpy as np\n",
    "import pandas as pd\n",
    "import matplotlib.pyplot as plt\n",
    "import pickle as pkl"
   ]
  },
  {
   "cell_type": "markdown",
   "metadata": {},
   "source": [
    "## Loading the Dataset"
   ]
  },
  {
   "cell_type": "code",
   "execution_count": 10,
   "metadata": {
    "ExecuteTime": {
     "start_time": "2023-06-02T14:08:38.895860Z",
     "end_time": "2023-06-02T14:08:38.940738Z"
    }
   },
   "outputs": [
    {
     "data": {
      "text/plain": "   Sex  Length  Diameter  Height  Whole weight  Shucked weight  \\\n0    M   0.350     0.265   0.090        0.2255          0.0995   \n1    F   0.530     0.420   0.135        0.6770          0.2565   \n2    M   0.440     0.365   0.125        0.5160          0.2155   \n3    I   0.330     0.255   0.080        0.2050          0.0895   \n4    I   0.425     0.300   0.095        0.3515          0.1410   \n..  ..     ...       ...     ...           ...             ...   \n95   M   0.535     0.435   0.150        0.7250          0.2690   \n96   M   0.470     0.375   0.130        0.5230          0.2140   \n97   M   0.470     0.370   0.130        0.5225          0.2010   \n98   F   0.475     0.375   0.125        0.5785          0.2775   \n99   I   0.360     0.265   0.095        0.2315          0.1050   \n\n    Viscera weight  Shell weight  Rings  \n0           0.0485         0.070      7  \n1           0.1415         0.210      9  \n2           0.1140         0.155     10  \n3           0.0395         0.055      7  \n4           0.0775         0.120      8  \n..             ...           ...    ...  \n95          0.1385         0.250      9  \n96          0.1320         0.145      8  \n97          0.1330         0.165      7  \n98          0.0850         0.155     10  \n99          0.0460         0.075      7  \n\n[100 rows x 9 columns]",
      "text/html": "<div>\n<style scoped>\n    .dataframe tbody tr th:only-of-type {\n        vertical-align: middle;\n    }\n\n    .dataframe tbody tr th {\n        vertical-align: top;\n    }\n\n    .dataframe thead th {\n        text-align: right;\n    }\n</style>\n<table border=\"1\" class=\"dataframe\">\n  <thead>\n    <tr style=\"text-align: right;\">\n      <th></th>\n      <th>Sex</th>\n      <th>Length</th>\n      <th>Diameter</th>\n      <th>Height</th>\n      <th>Whole weight</th>\n      <th>Shucked weight</th>\n      <th>Viscera weight</th>\n      <th>Shell weight</th>\n      <th>Rings</th>\n    </tr>\n  </thead>\n  <tbody>\n    <tr>\n      <th>0</th>\n      <td>M</td>\n      <td>0.350</td>\n      <td>0.265</td>\n      <td>0.090</td>\n      <td>0.2255</td>\n      <td>0.0995</td>\n      <td>0.0485</td>\n      <td>0.070</td>\n      <td>7</td>\n    </tr>\n    <tr>\n      <th>1</th>\n      <td>F</td>\n      <td>0.530</td>\n      <td>0.420</td>\n      <td>0.135</td>\n      <td>0.6770</td>\n      <td>0.2565</td>\n      <td>0.1415</td>\n      <td>0.210</td>\n      <td>9</td>\n    </tr>\n    <tr>\n      <th>2</th>\n      <td>M</td>\n      <td>0.440</td>\n      <td>0.365</td>\n      <td>0.125</td>\n      <td>0.5160</td>\n      <td>0.2155</td>\n      <td>0.1140</td>\n      <td>0.155</td>\n      <td>10</td>\n    </tr>\n    <tr>\n      <th>3</th>\n      <td>I</td>\n      <td>0.330</td>\n      <td>0.255</td>\n      <td>0.080</td>\n      <td>0.2050</td>\n      <td>0.0895</td>\n      <td>0.0395</td>\n      <td>0.055</td>\n      <td>7</td>\n    </tr>\n    <tr>\n      <th>4</th>\n      <td>I</td>\n      <td>0.425</td>\n      <td>0.300</td>\n      <td>0.095</td>\n      <td>0.3515</td>\n      <td>0.1410</td>\n      <td>0.0775</td>\n      <td>0.120</td>\n      <td>8</td>\n    </tr>\n    <tr>\n      <th>...</th>\n      <td>...</td>\n      <td>...</td>\n      <td>...</td>\n      <td>...</td>\n      <td>...</td>\n      <td>...</td>\n      <td>...</td>\n      <td>...</td>\n      <td>...</td>\n    </tr>\n    <tr>\n      <th>95</th>\n      <td>M</td>\n      <td>0.535</td>\n      <td>0.435</td>\n      <td>0.150</td>\n      <td>0.7250</td>\n      <td>0.2690</td>\n      <td>0.1385</td>\n      <td>0.250</td>\n      <td>9</td>\n    </tr>\n    <tr>\n      <th>96</th>\n      <td>M</td>\n      <td>0.470</td>\n      <td>0.375</td>\n      <td>0.130</td>\n      <td>0.5230</td>\n      <td>0.2140</td>\n      <td>0.1320</td>\n      <td>0.145</td>\n      <td>8</td>\n    </tr>\n    <tr>\n      <th>97</th>\n      <td>M</td>\n      <td>0.470</td>\n      <td>0.370</td>\n      <td>0.130</td>\n      <td>0.5225</td>\n      <td>0.2010</td>\n      <td>0.1330</td>\n      <td>0.165</td>\n      <td>7</td>\n    </tr>\n    <tr>\n      <th>98</th>\n      <td>F</td>\n      <td>0.475</td>\n      <td>0.375</td>\n      <td>0.125</td>\n      <td>0.5785</td>\n      <td>0.2775</td>\n      <td>0.0850</td>\n      <td>0.155</td>\n      <td>10</td>\n    </tr>\n    <tr>\n      <th>99</th>\n      <td>I</td>\n      <td>0.360</td>\n      <td>0.265</td>\n      <td>0.095</td>\n      <td>0.2315</td>\n      <td>0.1050</td>\n      <td>0.0460</td>\n      <td>0.075</td>\n      <td>7</td>\n    </tr>\n  </tbody>\n</table>\n<p>100 rows × 9 columns</p>\n</div>"
     },
     "execution_count": 10,
     "metadata": {},
     "output_type": "execute_result"
    }
   ],
   "source": [
    "df = pd.read_csv('./data/abalone_data.csv')\n",
    "# Assign column names\n",
    "col_names = [\"Sex\", \"Length\", \"Diameter\", \"Height\", \"Whole weight\", \"Shucked weight\", \"Viscera weight\", \"Shell weight\", \"Rings\"]\n",
    "df.columns = col_names\n",
    "df.head(100)\n"
   ]
  },
  {
   "cell_type": "markdown",
   "metadata": {},
   "source": [
    "## Data Preprocessing"
   ]
  },
  {
   "cell_type": "code",
   "execution_count": 4,
   "metadata": {
    "ExecuteTime": {
     "start_time": "2023-06-02T13:29:26.087671Z",
     "end_time": "2023-06-02T13:29:26.095677Z"
    }
   },
   "outputs": [
    {
     "name": "stdout",
     "output_type": "stream",
     "text": [
      "(4176, 9)\n"
     ]
    },
    {
     "data": {
      "text/plain": "Sex               0\nLength            0\nDiameter          0\nHeight            0\nWhole weight      0\nShucked weight    0\nViscera weight    0\nShell weight      0\nRings             0\ndtype: int64"
     },
     "execution_count": 4,
     "metadata": {},
     "output_type": "execute_result"
    }
   ],
   "source": [
    "print(df.shape)\n",
    "df.isnull().sum()"
   ]
  },
  {
   "cell_type": "markdown",
   "metadata": {},
   "source": [
    "**No NULL Values in DataSet**"
   ]
  },
  {
   "cell_type": "markdown",
   "metadata": {},
   "source": [
    "## Encoding"
   ]
  },
  {
   "cell_type": "code",
   "execution_count": 5,
   "metadata": {
    "ExecuteTime": {
     "start_time": "2023-06-02T13:29:26.088698Z",
     "end_time": "2023-06-02T13:29:29.405184Z"
    }
   },
   "outputs": [
    {
     "data": {
      "text/plain": "   Sex  Length  Diameter  Height  Whole weight  Shucked weight  \\\n0    2   0.350     0.265   0.090        0.2255          0.0995   \n1    0   0.530     0.420   0.135        0.6770          0.2565   \n2    2   0.440     0.365   0.125        0.5160          0.2155   \n3    1   0.330     0.255   0.080        0.2050          0.0895   \n4    1   0.425     0.300   0.095        0.3515          0.1410   \n\n   Viscera weight  Shell weight  Rings  \n0          0.0485         0.070      7  \n1          0.1415         0.210      9  \n2          0.1140         0.155     10  \n3          0.0395         0.055      7  \n4          0.0775         0.120      8  ",
      "text/html": "<div>\n<style scoped>\n    .dataframe tbody tr th:only-of-type {\n        vertical-align: middle;\n    }\n\n    .dataframe tbody tr th {\n        vertical-align: top;\n    }\n\n    .dataframe thead th {\n        text-align: right;\n    }\n</style>\n<table border=\"1\" class=\"dataframe\">\n  <thead>\n    <tr style=\"text-align: right;\">\n      <th></th>\n      <th>Sex</th>\n      <th>Length</th>\n      <th>Diameter</th>\n      <th>Height</th>\n      <th>Whole weight</th>\n      <th>Shucked weight</th>\n      <th>Viscera weight</th>\n      <th>Shell weight</th>\n      <th>Rings</th>\n    </tr>\n  </thead>\n  <tbody>\n    <tr>\n      <th>0</th>\n      <td>2</td>\n      <td>0.350</td>\n      <td>0.265</td>\n      <td>0.090</td>\n      <td>0.2255</td>\n      <td>0.0995</td>\n      <td>0.0485</td>\n      <td>0.070</td>\n      <td>7</td>\n    </tr>\n    <tr>\n      <th>1</th>\n      <td>0</td>\n      <td>0.530</td>\n      <td>0.420</td>\n      <td>0.135</td>\n      <td>0.6770</td>\n      <td>0.2565</td>\n      <td>0.1415</td>\n      <td>0.210</td>\n      <td>9</td>\n    </tr>\n    <tr>\n      <th>2</th>\n      <td>2</td>\n      <td>0.440</td>\n      <td>0.365</td>\n      <td>0.125</td>\n      <td>0.5160</td>\n      <td>0.2155</td>\n      <td>0.1140</td>\n      <td>0.155</td>\n      <td>10</td>\n    </tr>\n    <tr>\n      <th>3</th>\n      <td>1</td>\n      <td>0.330</td>\n      <td>0.255</td>\n      <td>0.080</td>\n      <td>0.2050</td>\n      <td>0.0895</td>\n      <td>0.0395</td>\n      <td>0.055</td>\n      <td>7</td>\n    </tr>\n    <tr>\n      <th>4</th>\n      <td>1</td>\n      <td>0.425</td>\n      <td>0.300</td>\n      <td>0.095</td>\n      <td>0.3515</td>\n      <td>0.1410</td>\n      <td>0.0775</td>\n      <td>0.120</td>\n      <td>8</td>\n    </tr>\n  </tbody>\n</table>\n</div>"
     },
     "execution_count": 5,
     "metadata": {},
     "output_type": "execute_result"
    }
   ],
   "source": [
    "from sklearn.preprocessing import LabelEncoder\n",
    "le = LabelEncoder()\n",
    "df['Sex'] = le.fit_transform(df['Sex'])\n",
    "df.head()"
   ]
  },
  {
   "cell_type": "markdown",
   "metadata": {},
   "source": [
    "**Categorical data encoded as: {0:\"I\", 1:\"F\", 2:\"M\"}**"
   ]
  },
  {
   "cell_type": "markdown",
   "metadata": {},
   "source": [
    "## Splitting the Dataset"
   ]
  },
  {
   "cell_type": "code",
   "execution_count": 6,
   "metadata": {
    "ExecuteTime": {
     "start_time": "2023-06-02T13:29:29.408176Z",
     "end_time": "2023-06-02T13:29:32.667715Z"
    }
   },
   "outputs": [],
   "source": [
    "from sklearn.model_selection import train_test_split\n",
    "X = df.drop('Rings', axis=1)\n",
    "y = df['Rings']\n",
    "\n",
    "X_train, X_test, y_train, y_test = train_test_split(X, y, test_size=0.2, random_state=42)"
   ]
  },
  {
   "cell_type": "markdown",
   "metadata": {},
   "source": [
    "## KNN Regression"
   ]
  },
  {
   "cell_type": "code",
   "execution_count": 7,
   "metadata": {
    "ExecuteTime": {
     "start_time": "2023-06-02T13:29:32.668713Z",
     "end_time": "2023-06-02T13:29:40.777227Z"
    }
   },
   "outputs": [
    {
     "name": "stdout",
     "output_type": "stream",
     "text": [
      "RMSE: 2.236421\n"
     ]
    }
   ],
   "source": [
    "# KNN Regression\n",
    "from sklearn.neighbors import KNeighborsRegressor\n",
    "knn = KNeighborsRegressor(n_neighbors=5)\n",
    "knn.fit(X_train, y_train)\n",
    "\n",
    "# Predictions\n",
    "y_pred = knn.predict(X_test)\n",
    "\n",
    "# RMSE\n",
    "from sklearn.metrics import mean_squared_error\n",
    "rmse = np.sqrt(mean_squared_error(y_test, y_pred))\n",
    "print(\"RMSE: %f\" % (rmse))"
   ]
  },
  {
   "cell_type": "code",
   "execution_count": 8,
   "outputs": [],
   "source": [
    "# Saving the model\n",
    "pkl.dump(knn, open('./models/knn_regression_abalone.pkl', 'wb'))\n"
   ],
   "metadata": {
    "collapsed": false,
    "ExecuteTime": {
     "start_time": "2023-06-02T13:29:40.779186Z",
     "end_time": "2023-06-02T13:29:40.792181Z"
    }
   }
  },
  {
   "cell_type": "markdown",
   "metadata": {},
   "source": [
    "## Plot"
   ]
  },
  {
   "cell_type": "code",
   "execution_count": 9,
   "metadata": {
    "ExecuteTime": {
     "start_time": "2023-06-02T13:29:40.796137Z",
     "end_time": "2023-06-02T13:29:40.996568Z"
    }
   },
   "outputs": [
    {
     "name": "stderr",
     "output_type": "stream",
     "text": [
      "C:\\Users\\AADITH~1\\AppData\\Local\\Temp/ipykernel_19736/152600631.py:3: UserWarning: color is redundantly defined by the 'color' keyword argument and the fmt string \"k--\" (-> color='k'). The keyword argument will take precedence.\n",
      "  plt.plot([y_test.min(), y_test.max()], [y_test.min(), y_test.max()], 'k--', color='red', label='Actual Data')\n"
     ]
    },
    {
     "data": {
      "text/plain": "<Figure size 432x288 with 1 Axes>",
      "image/png": "[encoded data removed]"
     },
     "metadata": {
      "needs_background": "light"
     },
     "output_type": "display_data"
    }
   ],
   "source": [
    "# Plotting the predicted and actual values\n",
    "plt.scatter(y_test, y_pred, color='blue', label='Predictions')\n",
    "plt.plot([y_test.min(), y_test.max()], [y_test.min(), y_test.max()], 'k--', color='red', label='Actual Data')\n",
    "plt.xlabel('Actual Values')\n",
    "plt.ylabel('Predictions')\n",
    "plt.legend()\n",
    "plt.show()\n"
   ]
  },
  {
   "cell_type": "markdown",
   "metadata": {},
   "source": [
    "**Result:** We can notice that applying KNN Regression gives an RMSE value of 2.23. It is able to predict with a fairly good accuracy. "
   ]
  },
  {
   "cell_type": "markdown",
   "metadata": {},
   "source": [
    "---"
   ]
  }
 ],
 "metadata": {
  "kernelspec": {
   "display_name": "Python 3 (ipykernel)",
   "language": "python",
   "name": "python3"
  },
  "language_info": {
   "codemirror_mode": {
    "name": "ipython",
    "version": 3
   },
   "file_extension": ".py",
   "mimetype": "text/x-python",
   "name": "python",
   "nbconvert_exporter": "python",
   "pygments_lexer": "ipython3",
   "version": "3.9.10"
  }
 },
 "nbformat": 4,
 "nbformat_minor": 4
}
