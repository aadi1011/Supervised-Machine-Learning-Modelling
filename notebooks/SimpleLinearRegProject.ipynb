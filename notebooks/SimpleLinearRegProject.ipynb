{
 "cells": [
  {
   "attachments": {},
   "cell_type": "markdown",
   "metadata": {},
   "source": [
    "# Simple Linear Regression Project\n",
    "### 17.01.2023"
   ]
  },
  {
   "attachments": {},
   "cell_type": "markdown",
   "metadata": {},
   "source": [
    "<b>Modelling the linear relationship between Sales and Advertising dataset</b>"
   ]
  },
  {
   "attachments": {},
   "cell_type": "markdown",
   "metadata": {},
   "source": [
    "### Project Overview\n",
    "<b>A Simple Linear Regression model is built to study the linear relationship between Sales and Advertising for a dietary weight control porduct</b>"
   ]
  },
  {
   "cell_type": "code",
   "execution_count": 1,
   "metadata": {
    "ExecuteTime": {
     "start_time": "2023-05-05T23:01:19.204409Z",
     "end_time": "2023-05-05T23:01:19.217665Z"
    }
   },
   "outputs": [],
   "source": [
    "# Importing necessary libraries\n",
    "\n",
    "import numpy as np\n",
    "import pandas as pd\n",
    "import matplotlib.pyplot as plt\n",
    "import pickle as pkl"
   ]
  },
  {
   "attachments": {},
   "cell_type": "markdown",
   "metadata": {},
   "source": [
    "### Reading the data"
   ]
  },
  {
   "cell_type": "code",
   "execution_count": 2,
   "metadata": {
    "ExecuteTime": {
     "start_time": "2023-05-05T23:01:19.220636Z",
     "end_time": "2023-05-05T23:01:19.268387Z"
    }
   },
   "outputs": [],
   "source": [
    "# read sales.txt from data folder and separate the columns using tab as separator\n",
    "\n",
    "df = pd.read_csv('data/sales.txt', sep='\\t', header=None)"
   ]
  },
  {
   "attachments": {},
   "cell_type": "markdown",
   "metadata": {},
   "source": [
    "### Exploratory Data Analysis"
   ]
  },
  {
   "cell_type": "code",
   "execution_count": 17,
   "metadata": {
    "ExecuteTime": {
     "start_time": "2023-05-05T23:01:42.269772Z",
     "end_time": "2023-05-05T23:01:42.339313Z"
    }
   },
   "outputs": [
    {
     "name": "stdout",
     "output_type": "stream",
     "text": [
      "(36, 2)\n"
     ]
    },
    {
     "data": {
      "text/plain": "   Sales  Advertising\n0   12.0           15\n1   21.0           18\n2   20.5           16\n3   15.5           27\n4   15.3           21",
      "text/html": "<div>\n<style scoped>\n    .dataframe tbody tr th:only-of-type {\n        vertical-align: middle;\n    }\n\n    .dataframe tbody tr th {\n        vertical-align: top;\n    }\n\n    .dataframe thead th {\n        text-align: right;\n    }\n</style>\n<table border=\"1\" class=\"dataframe\">\n  <thead>\n    <tr style=\"text-align: right;\">\n      <th></th>\n      <th>Sales</th>\n      <th>Advertising</th>\n    </tr>\n  </thead>\n  <tbody>\n    <tr>\n      <th>0</th>\n      <td>12.0</td>\n      <td>15</td>\n    </tr>\n    <tr>\n      <th>1</th>\n      <td>21.0</td>\n      <td>18</td>\n    </tr>\n    <tr>\n      <th>2</th>\n      <td>20.5</td>\n      <td>16</td>\n    </tr>\n    <tr>\n      <th>3</th>\n      <td>15.5</td>\n      <td>27</td>\n    </tr>\n    <tr>\n      <th>4</th>\n      <td>15.3</td>\n      <td>21</td>\n    </tr>\n  </tbody>\n</table>\n</div>"
     },
     "execution_count": 17,
     "metadata": {},
     "output_type": "execute_result"
    }
   ],
   "source": [
    "print(df.shape)\n",
    "df.head()"
   ]
  },
  {
   "cell_type": "code",
   "execution_count": 4,
   "metadata": {
    "ExecuteTime": {
     "start_time": "2023-05-05T23:01:19.311199Z",
     "end_time": "2023-05-05T23:01:19.450562Z"
    }
   },
   "outputs": [
    {
     "name": "stdout",
     "output_type": "stream",
     "text": [
      "<class 'pandas.core.frame.DataFrame'>\n",
      "RangeIndex: 36 entries, 0 to 35\n",
      "Data columns (total 2 columns):\n",
      " #   Column       Non-Null Count  Dtype  \n",
      "---  ------       --------------  -----  \n",
      " 0   Sales        36 non-null     float64\n",
      " 1   Advertising  36 non-null     int64  \n",
      "dtypes: float64(1), int64(1)\n",
      "memory usage: 704.0 bytes\n"
     ]
    }
   ],
   "source": [
    "df.columns = ['Sales', 'Advertising']\n",
    "df.info()"
   ]
  },
  {
   "cell_type": "code",
   "execution_count": 5,
   "metadata": {
    "ExecuteTime": {
     "start_time": "2023-05-05T23:01:19.371875Z",
     "end_time": "2023-05-05T23:01:19.494705Z"
    }
   },
   "outputs": [],
   "source": [
    "# Declare feature variable and target variable\n",
    "\n",
    "X = df['Sales'].values\n",
    "y = df['Advertising'].values\n",
    "\n",
    "# Sales and Advertising data values are given by X and y respectively.\n",
    "# Values attribute of pandas datagrame returns the numpy arrays."
   ]
  },
  {
   "cell_type": "code",
   "execution_count": 6,
   "metadata": {
    "ExecuteTime": {
     "start_time": "2023-05-05T23:01:19.389276Z",
     "end_time": "2023-05-05T23:01:19.726418Z"
    }
   },
   "outputs": [
    {
     "data": {
      "text/plain": "<Figure size 432x288 with 1 Axes>",
      "image/png": "[encoded data removed]"
     },
     "metadata": {
      "needs_background": "light"
     },
     "output_type": "display_data"
    }
   ],
   "source": [
    "# Plot scatter plot between X and y\n",
    "\n",
    "plt.scatter(X, y, color = 'blue', label='Scatter Plot')\n",
    "plt.title(\"Relationship between Sales and Advertising\")\n",
    "plt.xlabel(\"Sales\")\n",
    "plt.ylabel(\"Advertising\")\n",
    "plt.legend(loc=4)\n",
    "plt.show()"
   ]
  },
  {
   "attachments": {},
   "cell_type": "markdown",
   "metadata": {},
   "source": [
    "### Reshaping X and y\n",
    "\n",
    "Since we are working with only one feature variable, so we need to reshape using the reshape(-1,1) function."
   ]
  },
  {
   "cell_type": "code",
   "execution_count": 7,
   "metadata": {
    "ExecuteTime": {
     "start_time": "2023-05-05T23:01:19.729734Z",
     "end_time": "2023-05-05T23:01:19.797077Z"
    }
   },
   "outputs": [],
   "source": [
    "X = X.reshape(-1,1)\n",
    "y = y.reshape(-1,1)"
   ]
  },
  {
   "cell_type": "code",
   "execution_count": 8,
   "metadata": {
    "ExecuteTime": {
     "start_time": "2023-05-05T23:01:19.745902Z",
     "end_time": "2023-05-05T23:01:19.803227Z"
    }
   },
   "outputs": [
    {
     "name": "stdout",
     "output_type": "stream",
     "text": [
      "(36, 1)\n",
      "(36, 1)\n"
     ]
    }
   ],
   "source": [
    "# print the dimensions of X and y after reshaping\n",
    "\n",
    "print(X.shape)\n",
    "print(y.shape)"
   ]
  },
  {
   "attachments": {},
   "cell_type": "markdown",
   "metadata": {},
   "source": [
    "### Difference in dimensions of X and y after reshaping"
   ]
  },
  {
   "cell_type": "code",
   "execution_count": 9,
   "metadata": {
    "ExecuteTime": {
     "start_time": "2023-05-05T23:01:19.762231Z",
     "end_time": "2023-05-05T23:01:20.094141Z"
    }
   },
   "outputs": [],
   "source": [
    "# Split X and y into training and test datasets\n",
    "\n",
    "from sklearn.model_selection import train_test_split\n",
    "X_train, X_test, y_train, y_test = train_test_split(X, y, test_size=0.33, random_state=42)\n"
   ]
  },
  {
   "cell_type": "code",
   "execution_count": 10,
   "metadata": {
    "ExecuteTime": {
     "start_time": "2023-05-05T23:01:20.097217Z",
     "end_time": "2023-05-05T23:01:20.110403Z"
    }
   },
   "outputs": [
    {
     "name": "stdout",
     "output_type": "stream",
     "text": [
      "(24, 1)\n",
      "(12, 1)\n",
      "(24, 1)\n",
      "(12, 1)\n"
     ]
    }
   ],
   "source": [
    "# Print the dimensions of X_train, X_test, y_train, y_test\n",
    "\n",
    "print(X_train.shape)\n",
    "print(X_test.shape)\n",
    "print(y_train.shape)\n",
    "print(y_test.shape)\n"
   ]
  },
  {
   "attachments": {},
   "cell_type": "markdown",
   "metadata": {},
   "source": [
    "### Mechanics of the model\n",
    "\n",
    "The dataset was split into two sets - the training and test set. Then, I instantiate the regressor lm and fit it on the training set with the fit method."
   ]
  },
  {
   "cell_type": "code",
   "execution_count": 11,
   "metadata": {
    "ExecuteTime": {
     "start_time": "2023-05-05T23:01:20.113446Z",
     "end_time": "2023-05-05T23:01:20.221104Z"
    }
   },
   "outputs": [],
   "source": [
    "# Fit the linear regression model on training dataset\n",
    "\n",
    "from sklearn.linear_model import LinearRegression\n",
    "lm = LinearRegression()\n",
    "lm.fit(X_train, y_train)\n",
    "\n",
    "# Predict the target variable on test dataset\n",
    "y_pred = lm.predict(X_test)\n"
   ]
  },
  {
   "attachments": {},
   "cell_type": "markdown",
   "metadata": {},
   "source": [
    "### Model slope and intercept term"
   ]
  },
  {
   "cell_type": "code",
   "execution_count": 12,
   "metadata": {
    "ExecuteTime": {
     "start_time": "2023-05-05T23:01:20.237365Z",
     "end_time": "2023-05-05T23:01:20.251765Z"
    }
   },
   "outputs": [
    {
     "name": "stdout",
     "output_type": "stream",
     "text": [
      "Estimated model slope, a:  [[1.60509347]]\n",
      "Estimated model intercept, b:  (array([-11.16003616]),)\n"
     ]
    }
   ],
   "source": [
    "# Compute model slop and intercept\n",
    "\n",
    "a = lm.coef_\n",
    "b = lm.intercept_,\n",
    "print(\"Estimated model slope, a: \", a)\n",
    "print(\"Estimated model intercept, b: \", b)"
   ]
  },
  {
   "cell_type": "code",
   "execution_count": null,
   "outputs": [],
   "source": [
    "# Predicting advertising values for Sales values\n",
    "\n",
    "lm.predict(X)[0:5]\n",
    "\n",
    "# To make an individual prediction using the linear regression model"
   ],
   "metadata": {
    "collapsed": false
   }
  },
  {
   "cell_type": "code",
   "execution_count": 19,
   "outputs": [],
   "source": [
    "# save the model to pickle file\n",
    "with open('SalesLinearRegression.pkl', 'wb') as f:\n",
    "    pkl.dump(lm, f)"
   ],
   "metadata": {
    "collapsed": false,
    "ExecuteTime": {
     "start_time": "2023-05-05T23:07:23.488926Z",
     "end_time": "2023-05-05T23:07:23.547106Z"
    }
   }
  },
  {
   "cell_type": "code",
   "execution_count": 14,
   "metadata": {
    "ExecuteTime": {
     "start_time": "2023-05-05T23:01:20.267874Z",
     "end_time": "2023-05-05T23:01:20.334926Z"
    }
   },
   "outputs": [
    {
     "name": "stdout",
     "output_type": "stream",
     "text": [
      "[[27.36220717]]\n"
     ]
    }
   ],
   "source": [
    "# To make an individual prediction using the linear regression model\n",
    "\n",
    "print(str(lm.predict(np.array(24).reshape(1,-1))))"
   ]
  },
  {
   "cell_type": "code",
   "execution_count": 15,
   "metadata": {
    "ExecuteTime": {
     "start_time": "2023-05-05T23:01:20.284051Z",
     "end_time": "2023-05-05T23:01:20.334926Z"
    }
   },
   "outputs": [
    {
     "name": "stdout",
     "output_type": "stream",
     "text": [
      "Root Mean Square Error:  11.227260890598616\n"
     ]
    }
   ],
   "source": [
    "# Calculate and print Root Mean Square Error (RMSE)\n",
    "\n",
    "from sklearn.metrics import mean_squared_error\n",
    "mse = mean_squared_error(y_test, y_pred)\n",
    "rmse = np.sqrt(mse)\n",
    "print(\"Root Mean Square Error: \", rmse)"
   ]
  },
  {
   "attachments": {},
   "cell_type": "markdown",
   "metadata": {},
   "source": [
    "### R2 Score\n",
    "\n",
    "R2 Score is another metric to evaluate performance of a regression model. It is also called coefficient of determination. It gives us an idea of goodness of fit for the linear regression models. It indivates the percentage of variance that is explained by the model. \n",
    "\n",
    "It is a value between 0 and 1. A value of 1 indicates that the model explains all the variance in the response variable around its mean. A value of 0 indicates that the model explains none of the variance in the response variable around its mean."
   ]
  },
  {
   "cell_type": "code",
   "execution_count": 16,
   "metadata": {
    "ExecuteTime": {
     "start_time": "2023-05-05T23:01:20.298644Z",
     "end_time": "2023-05-05T23:01:20.334926Z"
    }
   },
   "outputs": [
    {
     "name": "stdout",
     "output_type": "stream",
     "text": [
      "R2 Score:  0.5789222227665717\n"
     ]
    }
   ],
   "source": [
    "# Calculate and print R2 Score\n",
    "\n",
    "from sklearn.metrics import r2_score\n",
    "print('R2 Score: ', r2_score(y_test, y_pred))"
   ]
  }
 ],
 "metadata": {
  "kernelspec": {
   "display_name": "Python 3",
   "language": "python",
   "name": "python3"
  },
  "language_info": {
   "codemirror_mode": {
    "name": "ipython",
    "version": 3
   },
   "file_extension": ".py",
   "mimetype": "text/x-python",
   "name": "python",
   "nbconvert_exporter": "python",
   "pygments_lexer": "ipython3",
   "version": "3.9.10"
  },
  "orig_nbformat": 4,
  "vscode": {
   "interpreter": {
    "hash": "6c097b70c618557334e2b30d74a3fe2fca5e88c2b6a328bb82b1391b5769e469"
   }
  }
 },
 "nbformat": 4,
 "nbformat_minor": 2
}
